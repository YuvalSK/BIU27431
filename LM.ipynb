{
 "cells": [
  {
   "cell_type": "markdown",
   "metadata": {},
   "source": [
    "# Linear model\n",
    "## y=a-b*x"
   ]
  },
  {
   "cell_type": "code",
   "execution_count": 1,
   "metadata": {},
   "outputs": [
    {
     "name": "stdout",
     "output_type": "stream",
     "text": [
      "Cost functions:\n",
      "ME: -0.205\n",
      "MSE: 0.137\n",
      "RMSE: 0.370\n"
     ]
    },
    {
     "data": {
      "text/plain": [
       "Text(0.5, 1.0, 'Linear Model')"
      ]
     },
     "execution_count": 1,
     "metadata": {},
     "output_type": "execute_result"
    },
    {
     "data": {
      "image/png": "[encoded data removed]",
      "text/plain": [
       "<Figure size 432x288 with 1 Axes>"
      ]
     },
     "metadata": {
      "needs_background": "light"
     },
     "output_type": "display_data"
    }
   ],
   "source": [
    "import numpy as np \n",
    "import matplotlib.pyplot as plt\n",
    "%matplotlib inline\n",
    "plt.rcParams.update({'font.size': 18})\n",
    "\n",
    "def LM(x,a=4.5,b=3.8):\n",
    "    y=[]\n",
    "    for i in x:\n",
    "        y.append(a-b*i)\n",
    "    return y\n",
    "\n",
    "#observations\n",
    "x = [0.90,0.75,0.72]\n",
    "y = [0.6,1.29,1.99] \n",
    "plt.scatter(x,y,c='r',label='y')\n",
    "\n",
    "#predictions\n",
    "y_pred = LM(x)\n",
    "plt.plot(x,y_pred,label='y_p')\n",
    "\n",
    "# Error functions\n",
    "ME = np.subtract(y,y_pred).mean() \n",
    "MSE = np.square(np.subtract(y,y_pred)).mean() \n",
    "RMSE = np.sqrt(MSE)\n",
    "print(f'Cost functions:\\nME: {ME:.3f}\\nMSE: {MSE:.3f}\\nRMSE: {RMSE:.3f}')\n",
    "\n",
    "#bla bla for visualization\n",
    "plt.grid()\n",
    "plt.legend()\n",
    "plt.xlabel(\"X [AU]\")\n",
    "plt.ylabel(\"Y [AU]\")\n",
    "plt.title('Linear Model')"
   ]
  },
  {
   "cell_type": "code",
   "execution_count": null,
   "metadata": {},
   "outputs": [],
   "source": []
  }
 ],
 "metadata": {
  "kernelspec": {
   "display_name": "Python 3",
   "language": "python",
   "name": "python3"
  },
  "language_info": {
   "codemirror_mode": {
    "name": "ipython",
    "version": 3
   },
   "file_extension": ".py",
   "mimetype": "text/x-python",
   "name": "python",
   "nbconvert_exporter": "python",
   "pygments_lexer": "ipython3",
   "version": "3.6.8"
  },
  "varInspector": {
   "cols": {
    "lenName": 16,
    "lenType": 16,
    "lenVar": 40
   },
   "kernels_config": {
    "python": {
     "delete_cmd_postfix": "",
     "delete_cmd_prefix": "del ",
     "library": "var_list.py",
     "varRefreshCmd": "print(var_dic_list())"
    },
    "r": {
     "delete_cmd_postfix": ") ",
     "delete_cmd_prefix": "rm(",
     "library": "var_list.r",
     "varRefreshCmd": "cat(var_dic_list()) "
    }
   },
   "types_to_exclude": [
    "module",
    "function",
    "builtin_function_or_method",
    "instance",
    "_Feature"
   ],
   "window_display": false
  }
 },
 "nbformat": 4,
 "nbformat_minor": 2
}
