{
 "cells": [
  {
   "cell_type": "markdown",
   "metadata": {},
   "source": [
    "# Boostraping\n",
    "## why?\n",
    "#### we want to evaluate some statistics of the population, but we only have a small sample"
   ]
  },
  {
   "cell_type": "code",
   "execution_count": 1,
   "metadata": {},
   "outputs": [
    {
     "name": "stdout",
     "output_type": "stream",
     "text": [
      "Average estimation\n",
      "\n",
      "real population, boostraped, sample (black, orange and red lines respectively)\n",
      "476.4,474.5,473.8\n"
     ]
    },
    {
     "data": {
      "image/png": "[encoded data removed]",
      "text/plain": [
       "<Figure size 432x288 with 1 Axes>"
      ]
     },
     "metadata": {
      "needs_background": "light"
     },
     "output_type": "display_data"
    }
   ],
   "source": [
    "import numpy as np\n",
    "import matplotlib.pyplot as plt\n",
    "%matplotlib inline\n",
    "plt.rcParams.update({'font.size': 18})\n",
    "\n",
    "np.random.seed(5)\n",
    "pop = np.random.randint(0,1000 , size=1000) # population; random vector with unknown distribution\n",
    "sample = np.random.choice(pop, size=200) # random sample of the population\n",
    "\n",
    "N = 1000 # how many times to repeat?\n",
    "sample_mean = []\n",
    "for _ in range(N): \n",
    "    sample_n = np.random.choice(sample, size=100) # select randomly from sample\n",
    "    sample_mean.append(sample_n.mean()) # take only the avg of the values\n",
    "    \n",
    "plt.hist(sample_mean)\n",
    "\n",
    "pm = pop.mean() #population avg\n",
    "bm = np.mean(sample_mean) # boostrap avg\n",
    "sm = sample.mean() #sample avg\n",
    "\n",
    "plt.axvline(pm,c='k')\n",
    "plt.axvline(bm,c='orange')\n",
    "plt.axvline(sm,c='r')\n",
    "\n",
    "#bla bla for visualization\n",
    "plt.grid()\n",
    "plt.xlabel(\"X [AU]\")\n",
    "plt.ylabel(\"Y [#]\")\n",
    "plt.title('Boostraping')\n",
    "\n",
    "print(f'Average estimation\\n\\nreal population, boostraped, sample (black, orange and red lines respectively)\\n{pm:.1f},{bm:.1f},{sm:.1f}')"
   ]
  },
  {
   "cell_type": "code",
   "execution_count": null,
   "metadata": {},
   "outputs": [],
   "source": []
  }
 ],
 "metadata": {
  "kernelspec": {
   "display_name": "Python 3",
   "language": "python",
   "name": "python3"
  },
  "language_info": {
   "codemirror_mode": {
    "name": "ipython",
    "version": 3
   },
   "file_extension": ".py",
   "mimetype": "text/x-python",
   "name": "python",
   "nbconvert_exporter": "python",
   "pygments_lexer": "ipython3",
   "version": "3.6.8"
  },
  "varInspector": {
   "cols": {
    "lenName": 16,
    "lenType": 16,
    "lenVar": 40
   },
   "kernels_config": {
    "python": {
     "delete_cmd_postfix": "",
     "delete_cmd_prefix": "del ",
     "library": "var_list.py",
     "varRefreshCmd": "print(var_dic_list())"
    },
    "r": {
     "delete_cmd_postfix": ") ",
     "delete_cmd_prefix": "rm(",
     "library": "var_list.r",
     "varRefreshCmd": "cat(var_dic_list()) "
    }
   },
   "types_to_exclude": [
    "module",
    "function",
    "builtin_function_or_method",
    "instance",
    "_Feature"
   ],
   "window_display": false
  }
 },
 "nbformat": 4,
 "nbformat_minor": 2
}
